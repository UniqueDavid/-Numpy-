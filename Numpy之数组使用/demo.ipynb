{
 "cells": [
  {
   "cell_type": "code",
   "execution_count": 5,
   "metadata": {},
   "outputs": [
    {
     "name": "stdout",
     "output_type": "stream",
     "text": [
      "<type 'numpy.ndarray'>\n",
      "[['Year' 'WHO region' 'Country' 'Beverage Types' 'Display Value']\n",
      " ['1986' 'Western Pacific' 'Viet Nam' 'Wine' '0']\n",
      " ['1986' 'Americas' 'Uruguay' 'Other' '0.5']\n",
      " ..., \n",
      " ['1987' 'Africa' 'Malawi' 'Other' '0.75']\n",
      " ['1989' 'Americas' 'Bahamas' 'Wine' '1.5']\n",
      " ['1985' 'Africa' 'Malawi' 'Spirits' '0.31']]\n",
      "Help on function genfromtxt in module numpy.lib.npyio:\n",
      "\n",
      "genfromtxt(fname, dtype=<type 'float'>, comments='#', delimiter=None, skip_header=0, skip_footer=0, converters=None, missing_values=None, filling_values=None, usecols=None, names=None, excludelist=None, deletechars=None, replace_space='_', autostrip=False, case_sensitive=True, defaultfmt='f%i', unpack=None, usemask=False, loose=True, invalid_raise=True, max_rows=None)\n",
      "    Load data from a text file, with missing values handled as specified.\n",
      "    \n",
      "    Each line past the first `skip_header` lines is split at the `delimiter`\n",
      "    character, and characters following the `comments` character are discarded.\n",
      "    \n",
      "    Parameters\n",
      "    ----------\n",
      "    fname : file, str, pathlib.Path, list of str, generator\n",
      "        File, filename, list, or generator to read.  If the filename\n",
      "        extension is `.gz` or `.bz2`, the file is first decompressed. Note\n",
      "        that generators must return byte strings in Python 3k.  The strings\n",
      "        in a list or produced by a generator are treated as lines.\n",
      "    dtype : dtype, optional\n",
      "        Data type of the resulting array.\n",
      "        If None, the dtypes will be determined by the contents of each\n",
      "        column, individually.\n",
      "    comments : str, optional\n",
      "        The character used to indicate the start of a comment.\n",
      "        All the characters occurring on a line after a comment are discarded\n",
      "    delimiter : str, int, or sequence, optional\n",
      "        The string used to separate values.  By default, any consecutive\n",
      "        whitespaces act as delimiter.  An integer or sequence of integers\n",
      "        can also be provided as width(s) of each field.\n",
      "    skiprows : int, optional\n",
      "        `skiprows` was removed in numpy 1.10. Please use `skip_header` instead.\n",
      "    skip_header : int, optional\n",
      "        The number of lines to skip at the beginning of the file.\n",
      "    skip_footer : int, optional\n",
      "        The number of lines to skip at the end of the file.\n",
      "    converters : variable, optional\n",
      "        The set of functions that convert the data of a column to a value.\n",
      "        The converters can also be used to provide a default value\n",
      "        for missing data: ``converters = {3: lambda s: float(s or 0)}``.\n",
      "    missing : variable, optional\n",
      "        `missing` was removed in numpy 1.10. Please use `missing_values`\n",
      "        instead.\n",
      "    missing_values : variable, optional\n",
      "        The set of strings corresponding to missing data.\n",
      "    filling_values : variable, optional\n",
      "        The set of values to be used as default when the data are missing.\n",
      "    usecols : sequence, optional\n",
      "        Which columns to read, with 0 being the first.  For example,\n",
      "        ``usecols = (1, 4, 5)`` will extract the 2nd, 5th and 6th columns.\n",
      "    names : {None, True, str, sequence}, optional\n",
      "        If `names` is True, the field names are read from the first valid line\n",
      "        after the first `skip_header` lines.\n",
      "        If `names` is a sequence or a single-string of comma-separated names,\n",
      "        the names will be used to define the field names in a structured dtype.\n",
      "        If `names` is None, the names of the dtype fields will be used, if any.\n",
      "    excludelist : sequence, optional\n",
      "        A list of names to exclude. This list is appended to the default list\n",
      "        ['return','file','print']. Excluded names are appended an underscore:\n",
      "        for example, `file` would become `file_`.\n",
      "    deletechars : str, optional\n",
      "        A string combining invalid characters that must be deleted from the\n",
      "        names.\n",
      "    defaultfmt : str, optional\n",
      "        A format used to define default field names, such as \"f%i\" or \"f_%02i\".\n",
      "    autostrip : bool, optional\n",
      "        Whether to automatically strip white spaces from the variables.\n",
      "    replace_space : char, optional\n",
      "        Character(s) used in replacement of white spaces in the variables\n",
      "        names. By default, use a '_'.\n",
      "    case_sensitive : {True, False, 'upper', 'lower'}, optional\n",
      "        If True, field names are case sensitive.\n",
      "        If False or 'upper', field names are converted to upper case.\n",
      "        If 'lower', field names are converted to lower case.\n",
      "    unpack : bool, optional\n",
      "        If True, the returned array is transposed, so that arguments may be\n",
      "        unpacked using ``x, y, z = loadtxt(...)``\n",
      "    usemask : bool, optional\n",
      "        If True, return a masked array.\n",
      "        If False, return a regular array.\n",
      "    loose : bool, optional\n",
      "        If True, do not raise errors for invalid values.\n",
      "    invalid_raise : bool, optional\n",
      "        If True, an exception is raised if an inconsistency is detected in the\n",
      "        number of columns.\n",
      "        If False, a warning is emitted and the offending lines are skipped.\n",
      "    max_rows : int,  optional\n",
      "        The maximum number of rows to read. Must not be used with skip_footer\n",
      "        at the same time.  If given, the value must be at least 1. Default is\n",
      "        to read the entire file.\n",
      "    \n",
      "        .. versionadded:: 1.10.0\n",
      "    \n",
      "    Returns\n",
      "    -------\n",
      "    out : ndarray\n",
      "        Data read from the text file. If `usemask` is True, this is a\n",
      "        masked array.\n",
      "    \n",
      "    See Also\n",
      "    --------\n",
      "    numpy.loadtxt : equivalent function when no data is missing.\n",
      "    \n",
      "    Notes\n",
      "    -----\n",
      "    * When spaces are used as delimiters, or when no delimiter has been given\n",
      "      as input, there should not be any missing data between two fields.\n",
      "    * When the variables are named (either by a flexible dtype or with `names`,\n",
      "      there must not be any header in the file (else a ValueError\n",
      "      exception is raised).\n",
      "    * Individual values are not stripped of spaces by default.\n",
      "      When using a custom converter, make sure the function does remove spaces.\n",
      "    \n",
      "    References\n",
      "    ----------\n",
      "    .. [1] NumPy User Guide, section `I/O with NumPy\n",
      "           <http://docs.scipy.org/doc/numpy/user/basics.io.genfromtxt.html>`_.\n",
      "    \n",
      "    Examples\n",
      "    ---------\n",
      "    >>> from io import StringIO\n",
      "    >>> import numpy as np\n",
      "    \n",
      "    Comma delimited file with mixed dtype\n",
      "    \n",
      "    >>> s = StringIO(\"1,1.3,abcde\")\n",
      "    >>> data = np.genfromtxt(s, dtype=[('myint','i8'),('myfloat','f8'),\n",
      "    ... ('mystring','S5')], delimiter=\",\")\n",
      "    >>> data\n",
      "    array((1, 1.3, 'abcde'),\n",
      "          dtype=[('myint', '<i8'), ('myfloat', '<f8'), ('mystring', '|S5')])\n",
      "    \n",
      "    Using dtype = None\n",
      "    \n",
      "    >>> s.seek(0) # needed for StringIO example only\n",
      "    >>> data = np.genfromtxt(s, dtype=None,\n",
      "    ... names = ['myint','myfloat','mystring'], delimiter=\",\")\n",
      "    >>> data\n",
      "    array((1, 1.3, 'abcde'),\n",
      "          dtype=[('myint', '<i8'), ('myfloat', '<f8'), ('mystring', '|S5')])\n",
      "    \n",
      "    Specifying dtype and names\n",
      "    \n",
      "    >>> s.seek(0)\n",
      "    >>> data = np.genfromtxt(s, dtype=\"i8,f8,S5\",\n",
      "    ... names=['myint','myfloat','mystring'], delimiter=\",\")\n",
      "    >>> data\n",
      "    array((1, 1.3, 'abcde'),\n",
      "          dtype=[('myint', '<i8'), ('myfloat', '<f8'), ('mystring', '|S5')])\n",
      "    \n",
      "    An example with fixed-width columns\n",
      "    \n",
      "    >>> s = StringIO(\"11.3abcde\")\n",
      "    >>> data = np.genfromtxt(s, dtype=None, names=['intvar','fltvar','strvar'],\n",
      "    ...     delimiter=[1,3,5])\n",
      "    >>> data\n",
      "    array((1, 1.3, 'abcde'),\n",
      "          dtype=[('intvar', '<i8'), ('fltvar', '<f8'), ('strvar', '|S5')])\n",
      "\n",
      "None\n"
     ]
    }
   ],
   "source": [
    "import numpy\n",
    "\n",
    "world_alcohol = numpy.genfromtxt(\"world_alcohol.txt\", delimiter=\",\",dtype=str)\n",
    "print(type(world_alcohol))\n",
    "print(world_alcohol)\n",
    "print(help(numpy.genfromtxt))"
   ]
  },
  {
   "cell_type": "code",
   "execution_count": 17,
   "metadata": {},
   "outputs": [
    {
     "name": "stdout",
     "output_type": "stream",
     "text": [
      "(4L,)\n",
      "[[ 5  6  7]\n",
      " [12 34 23]]\n",
      "(2L, 3L)\n",
      "(1L, 3L, 3L)\n",
      "[[[ 1 23  2]\n",
      "  [ 4  5  6]\n",
      "  [ 6  2  1]]]\n",
      "(1L, 1L, 3L, 3L)\n",
      "[[[[ 1 23  2]\n",
      "   [ 4  5  6]\n",
      "   [ 6  2  1]]]]\n"
     ]
    }
   ],
   "source": [
    "import numpy\n",
    "vector = numpy.array([1,2,3,4])\n",
    "print(vector.shape)\n",
    "matrix = numpy.array([[5,6,7],[12,34,23]])\n",
    "print(matrix)\n",
    "print(matrix.shape)\n",
    "third = numpy.array([[[1,23,2],[4,5,6],[6,2,1]]])\n",
    "print(third.shape)\n",
    "print(third)\n",
    "four = numpy.array([[[[1,23,2],[4,5,6],[6,2,1]]]])\n",
    "print(four.shape)\n",
    "print(four)"
   ]
  },
  {
   "cell_type": "code",
   "execution_count": 2,
   "metadata": {},
   "outputs": [
    {
     "name": "stdout",
     "output_type": "stream",
     "text": [
      "[['Year' 'WHO region' 'Country' 'Beverage Types' 'Display Value']\n",
      " ['1986' 'Western Pacific' 'Viet Nam' 'Wine' '0']\n",
      " ['1986' 'Americas' 'Uruguay' 'Other' '0.5']\n",
      " ..., \n",
      " ['1987' 'Africa' 'Malawi' 'Other' '0.75']\n",
      " ['1989' 'Americas' 'Bahamas' 'Wine' '1.5']\n",
      " ['1985' 'Africa' 'Malawi' 'Spirits' '0.31']]\n"
     ]
    }
   ],
   "source": [
    "import numpy as np\n",
    "world = np.genfromtxt(\"world_alcohol.txt\", delimiter=\",\",dtype=str)\n",
    "print world"
   ]
  },
  {
   "cell_type": "code",
   "execution_count": 3,
   "metadata": {},
   "outputs": [
    {
     "name": "stdout",
     "output_type": "stream",
     "text": [
      "Wine Africa\n"
     ]
    }
   ],
   "source": [
    "other = world[1,3]\n",
    "country = world[3,1]\n",
    "print other, country"
   ]
  },
  {
   "cell_type": "code",
   "execution_count": 11,
   "metadata": {},
   "outputs": [
    {
     "name": "stdout",
     "output_type": "stream",
     "text": [
      "[['Year' 'WHO region']\n",
      " ['1986' 'Western Pacific']\n",
      " ['1986' 'Americas']]\n"
     ]
    }
   ],
   "source": [
    "print world[0:3,0:2]"
   ]
  },
  {
   "cell_type": "code",
   "execution_count": 12,
   "metadata": {},
   "outputs": [
    {
     "name": "stdout",
     "output_type": "stream",
     "text": [
      "[ 5 10 15]\n"
     ]
    }
   ],
   "source": [
    "vector = np.array([5,10,15,20])\n",
    "print vector[0:3]"
   ]
  },
  {
   "cell_type": "code",
   "execution_count": 18,
   "metadata": {},
   "outputs": [
    {
     "name": "stdout",
     "output_type": "stream",
     "text": [
      "[[1 2]\n",
      " [4 5]\n",
      " [7 8]]\n",
      "[[3]\n",
      " [6]\n",
      " [9]]\n"
     ]
    }
   ],
   "source": [
    "matrix = np.array([[1,2,3],\n",
    "                 [4,5,6],\n",
    "                 [7,8,9]])\n",
    "print matrix[:,0:2]\n",
    "print matrix [:,2:4]"
   ]
  },
  {
   "cell_type": "code",
   "execution_count": 19,
   "metadata": {},
   "outputs": [
    {
     "data": {
      "text/plain": [
       "array([[False, False, False],\n",
       "       [False, False,  True],\n",
       "       [False, False, False]], dtype=bool)"
      ]
     },
     "execution_count": 19,
     "metadata": {},
     "output_type": "execute_result"
    }
   ],
   "source": [
    "matrix == 6"
   ]
  },
  {
   "cell_type": "code",
   "execution_count": 7,
   "metadata": {
    "scrolled": true
   },
   "outputs": [
    {
     "name": "stdout",
     "output_type": "stream",
     "text": [
      "[2]\n"
     ]
    },
    {
     "data": {
      "text/plain": [
       "array([[False, False,  True],\n",
       "       [False, False, False],\n",
       "       [False, False, False]], dtype=bool)"
      ]
     },
     "execution_count": 7,
     "metadata": {},
     "output_type": "execute_result"
    }
   ],
   "source": [
    "import numpy as np\n",
    "matrix = np.array([[1,2,3],\n",
    "                 [4,5,6],\n",
    "                 [7,8,9]])\n",
    "two = (matrix==2)\n",
    "three_or_ten = (matrix==3)|(matrix==10)\n",
    "print matrix[two]\n",
    "three_or_ten"
   ]
  },
  {
   "cell_type": "code",
   "execution_count": 17,
   "metadata": {},
   "outputs": [
    {
     "name": "stdout",
     "output_type": "stream",
     "text": [
      "int32\n",
      "[[ 1.  2.  3.]\n",
      " [ 4.  5.  6.]\n",
      " [ 7.  8.  9.]]\n",
      "float64\n",
      "1.0\n",
      "9.0\n",
      "[  6.  15.  24.]\n",
      "[ 12.  15.  18.]\n"
     ]
    }
   ],
   "source": [
    "import numpy as np\n",
    "matrix = np.array([[1,2,3],\n",
    "                 [4,5,6],\n",
    "                 [7,8,9]])\n",
    "print matrix.dtype\n",
    "matrix = matrix.astype(float)\n",
    "print matrix\n",
    "print matrix.dtype\n",
    "print matrix.min()\n",
    "print matrix.max()\n",
    "print matrix.sum(axis=1)\n",
    "print matrix.sum(axis=0)"
   ]
  },
  {
   "cell_type": "code",
   "execution_count": 22,
   "metadata": {},
   "outputs": [
    {
     "name": "stdout",
     "output_type": "stream",
     "text": [
      "[[ 0  1  2]\n",
      " [ 3  4  5]\n",
      " [ 6  7  8]\n",
      " [ 9 10 11]\n",
      " [12 13 14]]\n"
     ]
    }
   ],
   "source": [
    "import numpy as np\n",
    "print np.arange(15).reshape(5,-1)"
   ]
  },
  {
   "cell_type": "code",
   "execution_count": 29,
   "metadata": {},
   "outputs": [
    {
     "name": "stdout",
     "output_type": "stream",
     "text": [
      "[[ 0.  0.  0.  0.  0.]\n",
      " [ 0.  0.  0.  0.  0.]\n",
      " [ 0.  0.  0.  0.  0.]\n",
      " [ 0.  0.  0.  0.  0.]]\n",
      "[[1 1 1 1 1]\n",
      " [1 1 1 1 1]\n",
      " [1 1 1 1 1]\n",
      " [1 1 1 1 1]]\n"
     ]
    }
   ],
   "source": [
    "import numpy as np\n",
    "print np.zeros((4,5))\n",
    "print np.ones((4,5),dtype=int)"
   ]
  },
  {
   "cell_type": "code",
   "execution_count": 30,
   "metadata": {},
   "outputs": [
    {
     "name": "stdout",
     "output_type": "stream",
     "text": [
      "[30 35 40 45]\n"
     ]
    }
   ],
   "source": [
    "import numpy as np\n",
    "print np.arange(30,50,5)"
   ]
  },
  {
   "cell_type": "code",
   "execution_count": 36,
   "metadata": {},
   "outputs": [
    {
     "name": "stdout",
     "output_type": "stream",
     "text": [
      "[[ 0.19414241  0.67465286  0.98071956  0.82193582  0.98876564]\n",
      " [ 0.92132355  0.63143924  0.04243565  0.4331208   0.99188258]\n",
      " [ 0.84076515  0.23375451  0.0340576   0.51261395  0.68584594]\n",
      " [ 0.09117394  0.64788544  0.69534091  0.90713483  0.819232  ]]\n",
      "[  0.           0.34343434   0.68686869   1.03030303   1.37373737\n",
      "   1.71717172   2.06060606   2.4040404    2.74747475   3.09090909\n",
      "   3.43434343   3.77777778   4.12121212   4.46464646   4.80808081\n",
      "   5.15151515   5.49494949   5.83838384   6.18181818   6.52525253\n",
      "   6.86868687   7.21212121   7.55555556   7.8989899    8.24242424\n",
      "   8.58585859   8.92929293   9.27272727   9.61616162   9.95959596\n",
      "  10.3030303   10.64646465  10.98989899  11.33333333  11.67676768\n",
      "  12.02020202  12.36363636  12.70707071  13.05050505  13.39393939\n",
      "  13.73737374  14.08080808  14.42424242  14.76767677  15.11111111\n",
      "  15.45454545  15.7979798   16.14141414  16.48484848  16.82828283\n",
      "  17.17171717  17.51515152  17.85858586  18.2020202   18.54545455\n",
      "  18.88888889  19.23232323  19.57575758  19.91919192  20.26262626\n",
      "  20.60606061  20.94949495  21.29292929  21.63636364  21.97979798\n",
      "  22.32323232  22.66666667  23.01010101  23.35353535  23.6969697\n",
      "  24.04040404  24.38383838  24.72727273  25.07070707  25.41414141\n",
      "  25.75757576  26.1010101   26.44444444  26.78787879  27.13131313\n",
      "  27.47474747  27.81818182  28.16161616  28.50505051  28.84848485\n",
      "  29.19191919  29.53535354  29.87878788  30.22222222  30.56565657\n",
      "  30.90909091  31.25252525  31.5959596   31.93939394  32.28282828\n",
      "  32.62626263  32.96969697  33.31313131  33.65656566  34.        ]\n"
     ]
    }
   ],
   "source": [
    "import numpy as np\n",
    "print np.random.random((4,5))\n",
    "print np.linspace(0,34,100)"
   ]
  },
  {
   "cell_type": "code",
   "execution_count": 40,
   "metadata": {},
   "outputs": [
    {
     "name": "stdout",
     "output_type": "stream",
     "text": [
      "[1 2 3 4]\n",
      "[0 1 2 3]\n",
      "[1 1 1 1]\n",
      "[ True  True False False]\n",
      "[1 2]\n"
     ]
    }
   ],
   "source": [
    "import numpy as np\n",
    "a = np.array([1,2,3,4])\n",
    "b = np.arange(4)\n",
    "print a\n",
    "print b\n",
    "c = a-b\n",
    "print c\n",
    "print a<3\n",
    "print a[a<3]"
   ]
  },
  {
   "cell_type": "code",
   "execution_count": 43,
   "metadata": {},
   "outputs": [
    {
     "name": "stdout",
     "output_type": "stream",
     "text": [
      "[[ 2  9 16]\n",
      " [21 16 15]\n",
      " [10 36 21]]\n",
      "[[31 42 29]\n",
      " [41 55 39]\n",
      " [61 81 59]]\n"
     ]
    }
   ],
   "source": [
    "import numpy as np\n",
    "a = np.array([[2,3,4],\n",
    "             [3,4,5],\n",
    "             [5,6,7]])\n",
    "b = np.array([[1,3,4],\n",
    "             [7,4,3],\n",
    "             [2,6,3]])\n",
    "print a*b\n",
    "print a.dot(b)"
   ]
  },
  {
   "cell_type": "code",
   "execution_count": 48,
   "metadata": {},
   "outputs": [
    {
     "name": "stdout",
     "output_type": "stream",
     "text": [
      "[0 1 2]\n",
      "[ 1.          2.71828183  7.3890561 ]\n",
      "[ 0.          1.          1.41421356]\n"
     ]
    }
   ],
   "source": [
    "import numpy as np\n",
    "a = np.arange(3)\n",
    "print a\n",
    "print np.exp(a)\n",
    "print np.sqrt(a)"
   ]
  },
  {
   "cell_type": "code",
   "execution_count": 52,
   "metadata": {},
   "outputs": [
    {
     "name": "stdout",
     "output_type": "stream",
     "text": [
      "[[ 5.  2.  7.  2.]\n",
      " [ 9.  1.  2.  2.]\n",
      " [ 7.  7.  5.  0.]]\n",
      "[ 5.  2.  7.  2.  9.  1.  2.  2.  7.  7.  5.  0.]\n",
      "[[ 5.  2.]\n",
      " [ 7.  2.]\n",
      " [ 9.  1.]\n",
      " [ 2.  2.]\n",
      " [ 7.  7.]\n",
      " [ 5.  0.]]\n"
     ]
    }
   ],
   "source": [
    "import numpy as np\n",
    "a = np.floor(10*np.random.random((3,4)))\n",
    "print a\n",
    "print a.ravel()\n",
    "print a.reshape(6,2)"
   ]
  },
  {
   "cell_type": "code",
   "execution_count": 58,
   "metadata": {},
   "outputs": [
    {
     "name": "stdout",
     "output_type": "stream",
     "text": [
      "[[ 1.  7.  8.  0.]\n",
      " [ 0.  9.  5.  6.]\n",
      " [ 9.  4.  9.  0.]]\n",
      "[[ 7.  8.  5.  2.]\n",
      " [ 8.  7.  7.  8.]\n",
      " [ 0.  8.  3.  3.]]\n",
      "[[ 1.  7.  8.  0.  7.  8.  5.  2.]\n",
      " [ 0.  9.  5.  6.  8.  7.  7.  8.]\n",
      " [ 9.  4.  9.  0.  0.  8.  3.  3.]]\n",
      "[[ 1.  7.  8.  0.]\n",
      " [ 0.  9.  5.  6.]\n",
      " [ 9.  4.  9.  0.]\n",
      " [ 7.  8.  5.  2.]\n",
      " [ 8.  7.  7.  8.]\n",
      " [ 0.  8.  3.  3.]]\n"
     ]
    }
   ],
   "source": [
    "import numpy as np\n",
    "a = np.floor(10*np.random.random((3,4)))\n",
    "b = np.floor(10*np.random.random((3,4)))\n",
    "print a\n",
    "print b\n",
    "print np.hstack((a,b))\n",
    "print np.vstack((a,b))"
   ]
  },
  {
   "cell_type": "code",
   "execution_count": 65,
   "metadata": {},
   "outputs": [
    {
     "name": "stdout",
     "output_type": "stream",
     "text": [
      "[[ 0.  8.  3.  4.  5.  2.  4.  9.  0.  5.  3.  4.]\n",
      " [ 8.  7.  8.  7.  2.  2.  5.  6.  7.  2.  4.  5.]\n",
      " [ 3.  6.  5.  1.  9.  3.  8.  6.  6.  3.  3.  9.]]\n",
      "[array([[ 0.,  8.],\n",
      "       [ 8.,  7.],\n",
      "       [ 3.,  6.]]), array([[ 3.,  4.,  5.,  2.,  4.,  9.],\n",
      "       [ 8.,  7.,  2.,  2.,  5.,  6.],\n",
      "       [ 5.,  1.,  9.,  3.,  8.,  6.]]), array([[ 0.,  5.,  3.,  4.],\n",
      "       [ 7.,  2.,  4.,  5.],\n",
      "       [ 6.,  3.,  3.,  9.]])]\n"
     ]
    }
   ],
   "source": [
    "import numpy as np\n",
    "a = np.floor(10*np.random.random((3,12)))\n",
    "print a\n",
    "#print np.hsplit(a,3)\n",
    "#print np.vsplit(a,3)\n",
    "print np.hsplit(a,(2,8))"
   ]
  },
  {
   "cell_type": "code",
   "execution_count": 71,
   "metadata": {},
   "outputs": [
    {
     "name": "stdout",
     "output_type": "stream",
     "text": [
      "[ 0  1  2  3  4  5  6  7  8  9 10 11]\n",
      "True\n",
      "[[ 0  1  2  3]\n",
      " [ 4  5  6  7]\n",
      " [ 8  9 10 11]]\n",
      "110000848\n",
      "110000848\n"
     ]
    }
   ],
   "source": [
    "import numpy as np\n",
    "a = np.arange(12)\n",
    "print a\n",
    "b = a\n",
    "print b is a\n",
    "b.shape = 3,-1\n",
    "print a\n",
    "print id(a)\n",
    "print id(b)"
   ]
  },
  {
   "cell_type": "code",
   "execution_count": 77,
   "metadata": {},
   "outputs": [
    {
     "name": "stdout",
     "output_type": "stream",
     "text": [
      "[[ 0 10  2  3]\n",
      " [ 4  5  6  7]\n",
      " [ 8  9 10 11]]\n",
      "[[ 0 10  2  3  4  5]\n",
      " [ 6  7  8  9 10 11]]\n",
      "[[ 0 10  2  3]\n",
      " [ 4  5  6  7]\n",
      " [ 8  9 10 11]]\n",
      "[[ 0 10  2  3  4  5]\n",
      " [ 6  7  8  9 10 11]]\n"
     ]
    }
   ],
   "source": [
    "c =a.view()\n",
    "c.shape = 2,6\n",
    "print a\n",
    "print c\n",
    "c[0,1] = 10\n",
    "print a\n",
    "print c"
   ]
  },
  {
   "cell_type": "code",
   "execution_count": 84,
   "metadata": {},
   "outputs": [
    {
     "name": "stdout",
     "output_type": "stream",
     "text": [
      "[[ 0 10  2  3]\n",
      " [ 4  5  6  7]\n",
      " [ 8  9 10 11]]\n",
      "[[ 0 10  2  3  4  5]\n",
      " [ 6  7  8  9 10 11]]\n",
      "[[ 0 10  2  3]\n",
      " [ 4  5  6  7]\n",
      " [ 8  9 10 11]]\n",
      "[[ 0  1  2  3  4  5]\n",
      " [ 6  7  8  9 10 11]]\n"
     ]
    }
   ],
   "source": [
    "d = a.copy()\n",
    "d.shape = 2,6\n",
    "print a\n",
    "print d\n",
    "d[0,1]=1\n",
    "print a\n",
    "print d"
   ]
  },
  {
   "cell_type": "code",
   "execution_count": 91,
   "metadata": {},
   "outputs": [
    {
     "name": "stdout",
     "output_type": "stream",
     "text": [
      "[[ 0.          0.84147098  0.90929743  0.14112001]\n",
      " [-0.7568025  -0.95892427 -0.2794155   0.6569866 ]\n",
      " [ 0.98935825  0.41211849 -0.54402111 -0.99999021]\n",
      " [-0.53657292  0.42016704  0.99060736  0.65028784]\n",
      " [-0.28790332 -0.96139749 -0.75098725  0.14987721]]\n",
      "[2 0 3 1]\n",
      "[0, 1, 2, 3]\n",
      "[ 0.98935825  0.84147098  0.99060736  0.6569866 ]\n"
     ]
    }
   ],
   "source": [
    "import numpy as np\n",
    "data = np.sin(np.arange(20).reshape(5,4))\n",
    "print data\n",
    "index = data.argmax(axis=0)\n",
    "print index\n",
    "print range(data.shape[1])\n",
    "data_max = data[index, range(data.shape[1])]\n",
    "print data_max"
   ]
  },
  {
   "cell_type": "code",
   "execution_count": 95,
   "metadata": {},
   "outputs": [
    {
     "name": "stdout",
     "output_type": "stream",
     "text": [
      "[ 0 10 20 30]\n",
      "[[ 0 10 20 30  0 10 20 30  0 10 20 30]\n",
      " [ 0 10 20 30  0 10 20 30  0 10 20 30]\n",
      " [ 0 10 20 30  0 10 20 30  0 10 20 30]\n",
      " [ 0 10 20 30  0 10 20 30  0 10 20 30]\n",
      " [ 0 10 20 30  0 10 20 30  0 10 20 30]\n",
      " [ 0 10 20 30  0 10 20 30  0 10 20 30]\n",
      " [ 0 10 20 30  0 10 20 30  0 10 20 30]\n",
      " [ 0 10 20 30  0 10 20 30  0 10 20 30]\n",
      " [ 0 10 20 30  0 10 20 30  0 10 20 30]\n",
      " [ 0 10 20 30  0 10 20 30  0 10 20 30]]\n"
     ]
    }
   ],
   "source": [
    "import numpy as np\n",
    "a = np.arange(0,40,10)\n",
    "print a\n",
    "b = np.tile(a, (10,3))\n",
    "print b"
   ]
  },
  {
   "cell_type": "code",
   "execution_count": 111,
   "metadata": {},
   "outputs": [
    {
     "name": "stdout",
     "output_type": "stream",
     "text": [
      "[[ 33.   9.  14.  89.]\n",
      " [ 25.  15.  25.  69.]\n",
      " [ 40.  80.  32.  98.]]\n",
      "[[  9.  14.  33.  89.]\n",
      " [ 15.  25.  25.  69.]\n",
      " [ 32.  40.  80.  98.]]\n",
      "[[1 2 0 3]\n",
      " [1 0 2 3]\n",
      " [2 0 1 3]]\n"
     ]
    }
   ],
   "source": [
    "import numpy as np\n",
    "a = np.floor(np.random.random((3,4))*100)\n",
    "print a\n",
    "print np.sort(a,axis=1)\n",
    "print np.argsort(a)"
   ]
  },
  {
   "cell_type": "code",
   "execution_count": null,
   "metadata": {
    "collapsed": true
   },
   "outputs": [],
   "source": []
  }
 ],
 "metadata": {
  "kernelspec": {
   "display_name": "Python 2",
   "language": "python",
   "name": "python2"
  },
  "language_info": {
   "codemirror_mode": {
    "name": "ipython",
    "version": 2
   },
   "file_extension": ".py",
   "mimetype": "text/x-python",
   "name": "python",
   "nbconvert_exporter": "python",
   "pygments_lexer": "ipython2",
   "version": "2.7.13"
  }
 },
 "nbformat": 4,
 "nbformat_minor": 2
}
